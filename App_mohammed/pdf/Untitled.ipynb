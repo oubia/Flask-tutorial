{
 "cells": [
  {
   "cell_type": "markdown",
   "metadata": {},
   "source": [
    "# Flask Tutorial"
   ]
  },
  {
   "cell_type": "markdown",
   "metadata": {},
   "source": [
    "## I.Set Up"
   ]
  },
  {
   "cell_type": "markdown",
   "metadata": {},
   "source": [
    "### I.1 Installation"
   ]
  },
  {
   "cell_type": "markdown",
   "metadata": {},
   "source": [
    "$ pip install Flask\n",
    "\n",
    "$ pip install -U Flask-SQLAlchemy\n"
   ]
  },
  {
   "cell_type": "markdown",
   "metadata": {},
   "source": [
    "### I.2 Create your first app"
   ]
  },
  {
   "cell_type": "markdown",
   "metadata": {},
   "source": [
    "#### --app.py---"
   ]
  },
  {
   "cell_type": "code",
   "execution_count": null,
   "metadata": {},
   "outputs": [],
   "source": [
    "from flask import Flask ,redirect\n",
    "\n",
    "app=Flask(__name__)\n",
    "\n",
    "@app.route('/')\n",
    "def home():\n",
    "    return \"<h1>Hello worl</h1>\"\n",
    "\n",
    "@app.route('/items')\n",
    "def items():\n",
    "    return \"Items list\"\n",
    "\n",
    "@app.route('/<name>')\n",
    "def user(name):\n",
    "    return f'{name} page'\n",
    "\n",
    "if __name__ == '__main__':\n",
    "#auto save\n",
    "    app.run(debug=True)"
   ]
  },
  {
   "cell_type": "markdown",
   "metadata": {},
   "source": [
    "### I.3 Render template"
   ]
  },
  {
   "cell_type": "markdown",
   "metadata": {},
   "source": [
    "#### --app.py---\n"
   ]
  },
  {
   "cell_type": "markdown",
   "metadata": {},
   "source": [
    "You should create a folder named templates then you can add some html files into it."
   ]
  },
  {
   "cell_type": "code",
   "execution_count": null,
   "metadata": {},
   "outputs": [],
   "source": [
    "from flask import Flask , render_template ,redirect\n",
    "\n",
    "@app.route('/')\n",
    "def home():\n",
    "    return render_template('index.html')\n",
    "\n",
    "@app.route('/items')\n",
    "def items():\n",
    "    return render_template('items.html')"
   ]
  },
  {
   "cell_type": "markdown",
   "metadata": {},
   "source": [
    "## II.Data Integration"
   ]
  },
  {
   "cell_type": "markdown",
   "metadata": {},
   "source": [
    "### I.1 Session: POST request"
   ]
  },
  {
   "cell_type": "markdown",
   "metadata": {},
   "source": [
    "Create html file"
   ]
  },
  {
   "cell_type": "markdown",
   "metadata": {},
   "source": [
    "#### --form.html "
   ]
  },
  {
   "cell_type": "markdown",
   "metadata": {},
   "source": [
    "<form method=\"POST\">\n",
    "        <input type=\"hidden\" name=\"form-name\" value=\"Add_form\">\n",
    "        <label for=\"designation\"> designation</label>\n",
    "        <p class=\"content-item\">\n",
    "            <input type=\"text\" name=\"designation\"> </p>\n",
    "        <label for=\"Quantity\">Quantity</label>\n",
    "        <p class=\"content-item\">\n",
    "            <input type=\"number\" min=\"1\" name=\"Quantity\"> </p>\n",
    "        <label for=\"Price\">Price</label>\n",
    "        <p class=\"content-item\">\n",
    "            <input type=\"number\" min=\"1.0\" name=\"Price\">\n",
    "        </p>\n",
    "        <p class=\"content-item\">\n",
    "            <p><input class=\"btn btn-primary\" type=\"submit\" value=\"Add\"> </p>\n",
    "        </p>\n",
    "    </form>"
   ]
  },
  {
   "cell_type": "markdown",
   "metadata": {},
   "source": [
    "#### --app--"
   ]
  },
  {
   "cell_type": "code",
   "execution_count": null,
   "metadata": {},
   "outputs": [],
   "source": [
    "from flask import Flask ,session, render_template ,redirect, request,url_for\n",
    "app.secret_key = b'_5#y2L\"F4Q8z\\n\\xec]/'\n",
    "\n",
    "@app.route('/', methods=['GET', 'POST'])\n",
    "def home():\n",
    "    if request.method == \"POST\":\n",
    "        # session.permanent=True\n",
    "        designation=request.form[\"designation\"]\n",
    "        quantity = request.form[\"Quantity\"]\n",
    "        price = request.form[\"Price\"]\n",
    "        session['designation'] =designation\n",
    "        session['quantity'] =quantity\n",
    "        session['price'] =price\n",
    "        return redirect(url_for('items'))\n",
    "    return render_template('index.html')\n",
    "\n",
    "def items():\n",
    "    if 'designation' in session:\n",
    "        designation=session['designation']\n",
    "        return render_template('items.html',designation=designation)\n",
    "    return render_template('index.html')"
   ]
  },
  {
   "cell_type": "markdown",
   "metadata": {},
   "source": [
    "#### --items.html"
   ]
  },
  {
   "cell_type": "code",
   "execution_count": null,
   "metadata": {},
   "outputs": [],
   "source": [
    "{% extends \"base.html\" %} {% block title %}items page{% endblock%} {% block content %}\n",
    "<h1>items</h1>\n",
    "<p> {{designation}}</p>\n",
    "{% endblock %}"
   ]
  },
  {
   "cell_type": "markdown",
   "metadata": {},
   "source": [
    "### I.2 Creating Database"
   ]
  },
  {
   "cell_type": "code",
   "execution_count": null,
   "metadata": {},
   "outputs": [],
   "source": [
    "app.config['SQLALCHEMY_DATABASE_URI']='sqlite:///sqlite3'\n",
    "app.config['SQLALCHEMY_TRACK_MODIFICATIONS']= False\n",
    "db=SQLAlchemy(app)"
   ]
  },
  {
   "cell_type": "code",
   "execution_count": null,
   "metadata": {},
   "outputs": [],
   "source": [
    "class Items(db.Model):\n",
    "    _id= db.Column(\"id\", db.Integer,primary_key=True)\n",
    "    designation = db.Column(db.String(100))\n",
    "    quantity = db.Column(db.Integer)\n",
    "    price=db.Column(db.Integer)\n",
    "    # save a data\n",
    "    def __init__(self, designation,quantity,price):\n",
    "        self.designation=designation\n",
    "        self.quantity=quantity\n",
    "        self.price=price"
   ]
  },
  {
   "cell_type": "markdown",
   "metadata": {},
   "source": [
    "### I.2 SqlAlchemy queries\n"
   ]
  },
  {
   "cell_type": "markdown",
   "metadata": {},
   "source": [
    "Create database"
   ]
  },
  {
   "cell_type": "code",
   "execution_count": null,
   "metadata": {},
   "outputs": [],
   "source": [
    "db.create_all()"
   ]
  },
  {
   "cell_type": "markdown",
   "metadata": {},
   "source": [
    "Getting item by it's desingation using filter"
   ]
  },
  {
   "cell_type": "code",
   "execution_count": null,
   "metadata": {},
   "outputs": [],
   "source": [
    "item = Items.query.filter_by(desingation = desingation).first()"
   ]
  },
  {
   "cell_type": "markdown",
   "metadata": {},
   "source": [
    "Get all items "
   ]
  },
  {
   "cell_type": "code",
   "execution_count": null,
   "metadata": {},
   "outputs": [],
   "source": [
    "items=Items.query.all()"
   ]
  },
  {
   "cell_type": "markdown",
   "metadata": {},
   "source": [
    "Updating an item"
   ]
  },
  {
   "cell_type": "code",
   "execution_count": null,
   "metadata": {},
   "outputs": [],
   "source": [
    "update_item = Items.query.filter_by(designation=request.form[\"Update_item\"]).first()\n",
    "update_item.quantity = int(request.form[\"Update_Quantity\"])"
   ]
  },
  {
   "cell_type": "markdown",
   "metadata": {},
   "source": [
    "Delete Item"
   ]
  },
  {
   "cell_type": "code",
   "execution_count": null,
   "metadata": {},
   "outputs": [],
   "source": [
    "Items.query.filter_by(designation=request.form[\"Delete_item\"]).delete()"
   ]
  },
  {
   "cell_type": "markdown",
   "metadata": {},
   "source": [
    "Save data and changes"
   ]
  },
  {
   "cell_type": "code",
   "execution_count": null,
   "metadata": {},
   "outputs": [],
   "source": [
    "db.session.commit()"
   ]
  },
  {
   "cell_type": "markdown",
   "metadata": {},
   "source": [
    "## III.Integrating bootstrap,css file and js file"
   ]
  },
  {
   "cell_type": "code",
   "execution_count": null,
   "metadata": {},
   "outputs": [],
   "source": [
    "<link rel=\"stylesheet\" type=\"text/css\" href=\"{{url_for('static',filename='location/file.css')}}\">\n",
    "<script src=\"{{url_for('static',filename='location/file.js')}}\"></script>"
   ]
  },
  {
   "cell_type": "markdown",
   "metadata": {},
   "source": [
    "## IV. Full project "
   ]
  },
  {
   "cell_type": "markdown",
   "metadata": {},
   "source": [
    "Check my github repo: https://github.com/oubia/Flask-tutorial"
   ]
  },
  {
   "cell_type": "markdown",
   "metadata": {},
   "source": [
    "<strong style=\"color:green;\">Good luck</strong>"
   ]
  }
 ],
 "metadata": {
  "kernelspec": {
   "display_name": "Python 3",
   "language": "python",
   "name": "python3"
  },
  "language_info": {
   "codemirror_mode": {
    "name": "ipython",
    "version": 3
   },
   "file_extension": ".py",
   "mimetype": "text/x-python",
   "name": "python",
   "nbconvert_exporter": "python",
   "pygments_lexer": "ipython3",
   "version": "3.8.3"
  }
 },
 "nbformat": 4,
 "nbformat_minor": 4
}
